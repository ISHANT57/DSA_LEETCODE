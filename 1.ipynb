{
 "cells": [
  {
   "cell_type": "code",
   "execution_count": 50,
   "id": "0ced1d7e",
   "metadata": {},
   "outputs": [
    {
     "name": "stdout",
     "output_type": "stream",
     "text": [
      "*\n",
      "**\n",
      "***\n",
      "****\n",
      "*****\n"
     ]
    }
   ],
   "source": [
    "n = 5\n",
    "for i in range(1, n + 1):\n",
    "    print('*' * i)\n"
   ]
  },
  {
   "cell_type": "code",
   "execution_count": 51,
   "id": "4a4ef8ee",
   "metadata": {},
   "outputs": [
    {
     "name": "stdout",
     "output_type": "stream",
     "text": [
      "\n",
      "*\n",
      "**\n",
      "***\n",
      "****\n",
      "*****\n"
     ]
    }
   ],
   "source": [
    "n = 5\n",
    "for i in range(0, n+1):\n",
    "    print('*' * i)\n"
   ]
  },
  {
   "cell_type": "code",
   "execution_count": 52,
   "id": "e33077e9",
   "metadata": {},
   "outputs": [
    {
     "name": "stdout",
     "output_type": "stream",
     "text": [
      "1\n",
      "22\n",
      "333\n",
      "4444\n"
     ]
    }
   ],
   "source": [
    "n=4\n",
    "for i in range(1,n+1):\n",
    "    for j in range(i):\n",
    "        print(i,end=\"\")\n",
    "    print()\n",
    "        "
   ]
  },
  {
   "cell_type": "code",
   "execution_count": 53,
   "id": "64afab53",
   "metadata": {},
   "outputs": [
    {
     "name": "stdout",
     "output_type": "stream",
     "text": [
      "1\n",
      "22\n",
      "333\n",
      "4444\n"
     ]
    }
   ],
   "source": [
    "n=4\n",
    "for i in range(1,n+1):\n",
    "    print(str(i)*i)\n"
   ]
  },
  {
   "cell_type": "code",
   "execution_count": 54,
   "id": "cc4ed05c",
   "metadata": {},
   "outputs": [
    {
     "name": "stdout",
     "output_type": "stream",
     "text": [
      "2\n"
     ]
    }
   ],
   "source": [
    "for i in range(2,3):\n",
    "    print(i)"
   ]
  },
  {
   "cell_type": "code",
   "execution_count": 55,
   "id": "90a7d2b8",
   "metadata": {},
   "outputs": [
    {
     "name": "stdout",
     "output_type": "stream",
     "text": [
      "55555\n"
     ]
    }
   ],
   "source": [
    "i=5\n",
    "print(str(i)*i)\n"
   ]
  },
  {
   "cell_type": "code",
   "execution_count": 56,
   "id": "4ab9ad9f",
   "metadata": {},
   "outputs": [],
   "source": [
    "# 1\n",
    "# 1 2\n",
    "# 1 2 3 \n",
    "# 1 2 3 4"
   ]
  },
  {
   "cell_type": "code",
   "execution_count": 57,
   "id": "0fe118a1",
   "metadata": {},
   "outputs": [
    {
     "name": "stdout",
     "output_type": "stream",
     "text": [
      "1\n",
      "12\n",
      "123\n",
      "1234\n"
     ]
    }
   ],
   "source": [
    "n=4\n",
    "for i in range(1,n+1):\n",
    "    for j in range(1,i+1):\n",
    "        print(j , end=\"\")\n",
    "    print()\n"
   ]
  },
  {
   "cell_type": "code",
   "execution_count": 58,
   "id": "f5783c95",
   "metadata": {},
   "outputs": [
    {
     "name": "stdout",
     "output_type": "stream",
     "text": [
      "1\n",
      "12\n",
      "123\n",
      "1234\n"
     ]
    }
   ],
   "source": [
    "n=4\n",
    "for i in range(1,n+1):\n",
    "    for j in range(1,i+1):\n",
    "        print(j , end=\"\")\n",
    "    print()"
   ]
  },
  {
   "cell_type": "code",
   "execution_count": 59,
   "id": "4b801a0d",
   "metadata": {},
   "outputs": [
    {
     "name": "stdout",
     "output_type": "stream",
     "text": [
      "    "
     ]
    }
   ],
   "source": [
    "for s in range(i):\n",
    "        print(' ', end='')"
   ]
  },
  {
   "cell_type": "code",
   "execution_count": 60,
   "id": "e01f11cd",
   "metadata": {},
   "outputs": [
    {
     "name": "stdout",
     "output_type": "stream",
     "text": [
      "1\n",
      "21\n",
      "321\n",
      "4321\n"
     ]
    }
   ],
   "source": [
    "n=4\n",
    "for i in range(1,n+1):\n",
    "    for j in range(i,0,-1):\n",
    "        print(j , end=\"\")\n",
    "    print()"
   ]
  },
  {
   "cell_type": "code",
   "execution_count": 61,
   "id": "9c22eda7",
   "metadata": {},
   "outputs": [
    {
     "name": "stdout",
     "output_type": "stream",
     "text": [
      "23\n",
      "3\n",
      "\n",
      "\n"
     ]
    }
   ],
   "source": [
    "n=4\n",
    "for i in range(1,n+1):\n",
    "    for j in range(i+1,n):\n",
    "        print(j, end=\"\")\n",
    "    print()\n"
   ]
  },
  {
   "cell_type": "code",
   "execution_count": 62,
   "id": "977ba496",
   "metadata": {},
   "outputs": [
    {
     "name": "stdout",
     "output_type": "stream",
     "text": [
      "1 \n",
      "2 3 \n",
      "4 5 6 \n",
      "7 8 9 10 \n"
     ]
    }
   ],
   "source": [
    "n=4\n",
    "count=1\n",
    "for i in range(1,n+1):\n",
    "    for j in range(1,i+1):\n",
    "        print(count,end=\" \")\n",
    "        count+=1\n",
    "    print()"
   ]
  },
  {
   "cell_type": "code",
   "execution_count": 63,
   "id": "05188f3f",
   "metadata": {},
   "outputs": [
    {
     "name": "stdout",
     "output_type": "stream",
     "text": [
      "54321\n",
      " 4321\n",
      "  321\n",
      "   21\n",
      "    1\n"
     ]
    }
   ],
   "source": [
    "n = 5\n",
    "for i in range(n):\n",
    "    # Print leading spaces\n",
    "    for s in range(i):\n",
    "        print(' ', end='')\n",
    "    \n",
    "    # Print decreasing numbers starting from (n - i) down to 1\n",
    "    for j in range(n - i, 0, -1):\n",
    "        print(j, end='')\n",
    "    \n",
    "    print()\n"
   ]
  },
  {
   "cell_type": "code",
   "execution_count": 64,
   "id": "59986834",
   "metadata": {},
   "outputs": [
    {
     "name": "stdout",
     "output_type": "stream",
     "text": [
      "    1\n",
      "   121\n",
      "  12321\n",
      " 1234321\n",
      "123454321\n"
     ]
    }
   ],
   "source": [
    "n = 5\n",
    "for i in range(1, n + 1):\n",
    "    # Print spaces\n",
    "    for j in range(n - i):\n",
    "        print(' ', end='')\n",
    "\n",
    "    # Print increasing numbers\n",
    "    for j in range(1, i + 1):\n",
    "        print(j, end='')\n",
    "\n",
    "    # Print decreasing numbers\n",
    "    for j in range(i - 1, 0, -1):\n",
    "        print(j, end='')\n",
    "\n",
    "    print()\n"
   ]
  },
  {
   "cell_type": "code",
   "execution_count": 65,
   "id": "95ba511d",
   "metadata": {},
   "outputs": [
    {
     "name": "stdout",
     "output_type": "stream",
     "text": [
      "120 \n",
      " 6\n"
     ]
    },
    {
     "data": {
      "text/plain": [
       "360"
      ]
     },
     "execution_count": 65,
     "metadata": {},
     "output_type": "execute_result"
    }
   ],
   "source": [
    "def factorail(n):\n",
    "    fact=1\n",
    "    for i in range(2,n+1):\n",
    "        fact=fact*i\n",
    "    return fact\n",
    "\n",
    "def ncr(n,r):\n",
    "    return factorail(n)//factorail(n-r)*factorail(r)\n",
    "\n",
    "print(factorail(5),\"\\n\",factorail(3))\n",
    "ncr(5,3)"
   ]
  },
  {
   "cell_type": "code",
   "execution_count": 66,
   "id": "e8d110b0",
   "metadata": {},
   "outputs": [
    {
     "name": "stdout",
     "output_type": "stream",
     "text": [
      "not prime\n",
      "prime\n",
      "not prime\n"
     ]
    }
   ],
   "source": [
    "def prime(n):\n",
    "    if n <= 1:\n",
    "        return \"not prime\"\n",
    "    for i in range(2, n):\n",
    "        if n % i == 0:\n",
    "            return \"not prime\"\n",
    "    return \"prime\"\n",
    "print(prime(4))  # not prime\n",
    "print(prime(5))  # prime\n",
    "print(prime(1))  # not prime\n"
   ]
  },
  {
   "cell_type": "code",
   "execution_count": 67,
   "id": "cadff13f",
   "metadata": {},
   "outputs": [
    {
     "data": {
      "text/plain": [
       "8"
      ]
     },
     "execution_count": 67,
     "metadata": {},
     "output_type": "execute_result"
    }
   ],
   "source": [
    "# 0 1 1 2 3 5 8\n",
    "\n",
    "def fibonacci(n):\n",
    "    a=0\n",
    "    b=1\n",
    "    \n",
    "    if n==0:\n",
    "        return None\n",
    "    elif n==1:\n",
    "        return a\n",
    "    \n",
    "    elif n==2:\n",
    "        return b\n",
    "\n",
    "    for i in range(2,n+1):\n",
    "        c=a+b\n",
    "        a=b\n",
    "        b=c\n",
    "    return b\n",
    "\n",
    "fibonacci(6)"
   ]
  },
  {
   "cell_type": "code",
   "execution_count": 68,
   "id": "1e9b5bbd",
   "metadata": {},
   "outputs": [
    {
     "name": "stdout",
     "output_type": "stream",
     "text": [
      "2 3 5 7 11 13 17 19 23 29 "
     ]
    }
   ],
   "source": [
    "def is_prime(num):\n",
    "    if num < 2:\n",
    "        return False\n",
    "    for i in range(2, int(num**0.5) + 1):\n",
    "        if num % i == 0:\n",
    "            return False\n",
    "    return True\n",
    "\n",
    "def print_primes(n):\n",
    "    for i in range(2, n + 1):\n",
    "        if is_prime(i):\n",
    "            print(i, end=\" \")\n",
    "\n",
    "# Example usage\n",
    "print_primes(30)\n"
   ]
  },
  {
   "cell_type": "code",
   "execution_count": 69,
   "id": "4c91713a",
   "metadata": {},
   "outputs": [],
   "source": [
    "def reverse_array(arr):\n",
    "    left = 0\n",
    "    right = len(arr) - 1\n",
    "\n",
    "    while left < right:\n",
    "        # Swap elements at left and right\n",
    "        arr[left], arr[right] = arr[right], arr[left]\n",
    "        # Move pointers toward each other\n",
    "        left += 1\n",
    "        right -= 1\n",
    "\n",
    "    return arr\n"
   ]
  },
  {
   "cell_type": "code",
   "execution_count": 70,
   "id": "6bce6dc6",
   "metadata": {},
   "outputs": [
    {
     "name": "stdout",
     "output_type": "stream",
     "text": [
      "[5, 4, 3, 2, 1]\n"
     ]
    }
   ],
   "source": [
    "arr = [1, 2, 3, 4, 5]\n",
    "reversed_arr = reverse_array(arr)\n",
    "print(reversed_arr)  # Output: [5, 4, 3, 2, 1]\n"
   ]
  },
  {
   "cell_type": "code",
   "execution_count": 71,
   "id": "6f85d596",
   "metadata": {},
   "outputs": [
    {
     "data": {
      "text/plain": [
       "4"
      ]
     },
     "execution_count": 71,
     "metadata": {},
     "output_type": "execute_result"
    }
   ],
   "source": [
    "arr=[4,1,2,1,2]\n",
    "def single_num(arr):\n",
    "\n",
    "    for i in range(len(arr)):\n",
    "        for j in range(i+1,len(arr)):\n",
    "            if arr[i]!=arr[j]:\n",
    "                return arr[i]\n",
    "            \n",
    "            else:\n",
    "                print(\"none\")\n",
    "single_num(arr)"
   ]
  },
  {
   "cell_type": "code",
   "execution_count": 72,
   "id": "7dbeabb5",
   "metadata": {},
   "outputs": [
    {
     "name": "stdout",
     "output_type": "stream",
     "text": [
      "6\n"
     ]
    }
   ],
   "source": [
    "arr = [4, 1, 2, 1, 2 , 2 ,3 , 3 ]\n",
    "\n",
    "def single_num(arr):\n",
    "    result = 0\n",
    "    for num in arr:\n",
    "        result ^= num\n",
    "    return result\n",
    "\n",
    "print(single_num(arr))  # Output: 4\n"
   ]
  },
  {
   "cell_type": "code",
   "execution_count": 73,
   "id": "eae23f63",
   "metadata": {},
   "outputs": [
    {
     "name": "stdout",
     "output_type": "stream",
     "text": [
      "4\n"
     ]
    }
   ],
   "source": [
    "arr = [4, 1, 2, 1, 2, 2, 3, 3]\n",
    "\n",
    "def single_num(arr):\n",
    "    freq = {}\n",
    "    for num in arr:\n",
    "        if num in freq:\n",
    "            freq[num] += 1\n",
    "        else:\n",
    "            freq[num] = 1\n",
    "    for num in freq:\n",
    "        if freq[num] == 1:\n",
    "            return num\n",
    "\n",
    "print(single_num(arr))  # Output: 4\n"
   ]
  },
  {
   "cell_type": "code",
   "execution_count": 74,
   "id": "454adabf",
   "metadata": {},
   "outputs": [
    {
     "name": "stdout",
     "output_type": "stream",
     "text": [
      "[1]\n",
      "[1, 2]\n",
      "[1, 2, 3]\n",
      "[2]\n",
      "[2, 3]\n",
      "[3]\n"
     ]
    }
   ],
   "source": [
    "def print_all_subarrays(arr):\n",
    "    n = len(arr)\n",
    "    for start in range(n):\n",
    "        for end in range(start, n):\n",
    "            subarray = arr[start:end+1]\n",
    "            print(subarray)\n",
    "   \n",
    "\n",
    "# Example usage:\n",
    "arr = [1, 2, 3]\n",
    "print_all_subarrays(arr)\n"
   ]
  },
  {
   "cell_type": "code",
   "execution_count": 75,
   "id": "513adfca",
   "metadata": {},
   "outputs": [
    {
     "name": "stdout",
     "output_type": "stream",
     "text": [
      "[1]\n",
      "[1, -2]\n",
      "[1, -2, 3]\n",
      "[1, -2, 3, 4]\n",
      "[1, -2, 3, 4, -1]\n",
      "[1, -2, 3, 4, -1, 2]\n",
      "[1, -2, 3, 4, -1, 2, 1]\n",
      "[1, -2, 3, 4, -1, 2, 1, -5]\n",
      "[1, -2, 3, 4, -1, 2, 1, -5, 4]\n",
      "[-2]\n",
      "[-2, 3]\n",
      "[-2, 3, 4]\n",
      "[-2, 3, 4, -1]\n",
      "[-2, 3, 4, -1, 2]\n",
      "[-2, 3, 4, -1, 2, 1]\n",
      "[-2, 3, 4, -1, 2, 1, -5]\n",
      "[-2, 3, 4, -1, 2, 1, -5, 4]\n",
      "[3]\n",
      "[3, 4]\n",
      "[3, 4, -1]\n",
      "[3, 4, -1, 2]\n",
      "[3, 4, -1, 2, 1]\n",
      "[3, 4, -1, 2, 1, -5]\n",
      "[3, 4, -1, 2, 1, -5, 4]\n",
      "[4]\n",
      "[4, -1]\n",
      "[4, -1, 2]\n",
      "[4, -1, 2, 1]\n",
      "[4, -1, 2, 1, -5]\n",
      "[4, -1, 2, 1, -5, 4]\n",
      "[-1]\n",
      "[-1, 2]\n",
      "[-1, 2, 1]\n",
      "[-1, 2, 1, -5]\n",
      "[-1, 2, 1, -5, 4]\n",
      "[2]\n",
      "[2, 1]\n",
      "[2, 1, -5]\n",
      "[2, 1, -5, 4]\n",
      "[1]\n",
      "[1, -5]\n",
      "[1, -5, 4]\n",
      "[-5]\n",
      "[-5, 4]\n",
      "[4]\n",
      "Maximum Subarray Sum: 9\n"
     ]
    }
   ],
   "source": [
    "def print_all_subarrays_and_max_sum(arr):\n",
    "    n = len(arr)\n",
    "    max_sum = 0  # Initialize with negative infinity\n",
    "\n",
    "    for start in range(n):\n",
    "        for end in range(start, n):\n",
    "            subarray = arr[start:end+1]\n",
    "            sub_sum = sum(subarray)\n",
    "            print(subarray)\n",
    "            if sub_sum > max_sum:\n",
    "                max_sum = sub_sum\n",
    "\n",
    "    print(\"Maximum Subarray Sum:\", max_sum)\n",
    "\n",
    "# Example usage:\n",
    "arr = [1, -2, 3, 4, -1, 2, 1, -5, 4]\n",
    "print_all_subarrays_and_max_sum(arr)\n"
   ]
  },
  {
   "cell_type": "code",
   "execution_count": 76,
   "id": "61cfbd27",
   "metadata": {},
   "outputs": [
    {
     "name": "stdout",
     "output_type": "stream",
     "text": [
      "Maximum Subarray Sum: 9\n"
     ]
    }
   ],
   "source": [
    "def max_subarray_sum(arr):\n",
    "    max_sum = curr_sum = arr[0]\n",
    "    for num in arr[1:]:\n",
    "        curr_sum = max(num, curr_sum + num)\n",
    "        max_sum = max(max_sum, curr_sum)\n",
    "    print(\"Maximum Subarray Sum:\", max_sum)\n",
    "\n",
    "# Example usage:\n",
    "arr = [1, -2, 3, 4, -1, 2, 1, -5, 4]\n",
    "max_subarray_sum(arr)\n"
   ]
  },
  {
   "cell_type": "markdown",
   "id": "f8bede0e",
   "metadata": {},
   "source": [
    "# BRUTEFORCE APPROACH"
   ]
  },
  {
   "cell_type": "code",
   "execution_count": 77,
   "id": "f2d4f810",
   "metadata": {},
   "outputs": [
    {
     "name": "stdout",
     "output_type": "stream",
     "text": [
      "[1]\n",
      "[1, 2]\n",
      "[1, 2, 3]\n",
      "[1, 2, 3, 4]\n",
      "[1, 2, 3, 4, 5]\n",
      "[2]\n",
      "[2, 3]\n",
      "[2, 3, 4]\n",
      "[2, 3, 4, 5]\n",
      "[3]\n",
      "[3, 4]\n",
      "[3, 4, 5]\n",
      "[4]\n",
      "[4, 5]\n",
      "[5]\n"
     ]
    },
    {
     "data": {
      "text/plain": [
       "15"
      ]
     },
     "execution_count": 77,
     "metadata": {},
     "output_type": "execute_result"
    }
   ],
   "source": [
    "def subarray_printstart(start,arr):\n",
    "    n=len(arr)\n",
    "    max_sum=0\n",
    "    for start in range(n):\n",
    "        for end in range(start,n):\n",
    "            sub_array=arr[start:end+1]\n",
    "            print(sub_array)\n",
    "            sub_sum=sum(sub_array)\n",
    "            if sub_sum>max_sum:\n",
    "                max_sum=sub_sum\n",
    "    return max_sum\n",
    "\n",
    "subarray_printstart(1,[1,2,3,4,5])   "
   ]
  },
  {
   "cell_type": "code",
   "execution_count": 78,
   "id": "ef6b33fd",
   "metadata": {},
   "outputs": [
    {
     "name": "stdout",
     "output_type": "stream",
     "text": [
      "[1]\n",
      "[1, 2]\n",
      "[1, 2, 3]\n",
      "[2]\n",
      "[2, 3]\n",
      "[3]\n"
     ]
    },
    {
     "data": {
      "text/plain": [
       "2"
      ]
     },
     "execution_count": 78,
     "metadata": {},
     "output_type": "execute_result"
    }
   ],
   "source": [
    "def subarray_printstart(arr,target):\n",
    "    n=len(arr)\n",
    "    max_sum=0\n",
    "    count=0\n",
    "    for start in range(n):\n",
    "        for end in range(start,n):\n",
    "            sub_array=arr[start:end+1]\n",
    "            print(sub_array)\n",
    "            sub_sum=sum(sub_array)\n",
    "            if sub_sum==target:\n",
    "                count+=1\n",
    "    return count\n",
    "\n",
    "subarray_printstart([1,2,3],3)   "
   ]
  },
  {
   "cell_type": "markdown",
   "id": "dc59f84f",
   "metadata": {},
   "source": [
    "# KADANE ALGORITHMN"
   ]
  },
  {
   "cell_type": "code",
   "execution_count": 79,
   "id": "cf978f27",
   "metadata": {},
   "outputs": [
    {
     "name": "stdout",
     "output_type": "stream",
     "text": [
      "Maximum Subarray Sum: 9\n"
     ]
    }
   ],
   "source": [
    "def max_subarray_sum(arr):\n",
    "    max_sum = curr_sum = arr[0]\n",
    "    for num in arr[1:]:\n",
    "        curr_sum = max(num, curr_sum + num)\n",
    "        max_sum = max(max_sum, curr_sum)\n",
    "    print(\"Maximum Subarray Sum:\", max_sum)\n",
    "\n",
    "# Example usage:\n",
    "arr = [1, -2, 3, 4, -1, 2, 1, -5, 4]\n",
    "max_subarray_sum(arr)\n"
   ]
  },
  {
   "cell_type": "code",
   "execution_count": 80,
   "id": "20e47230",
   "metadata": {},
   "outputs": [
    {
     "name": "stdout",
     "output_type": "stream",
     "text": [
      "total count is  1\n"
     ]
    }
   ],
   "source": [
    "def max_subarray_sum(arr,k):\n",
    "    count=0\n",
    "    max_sum = curr_sum = arr[0]\n",
    "    for num in arr[1:]:\n",
    "        curr_sum = max(num, curr_sum + num)\n",
    "        if curr_sum==k:\n",
    "            count+=1\n",
    "    print(\"total count is \",count)\n",
    "\n",
    "# Example usage:\n",
    "arr = [1, 2,3]\n",
    "max_subarray_sum(arr,3)\n"
   ]
  },
  {
   "cell_type": "markdown",
   "id": "b6c90615",
   "metadata": {},
   "source": [
    "# PAIRSUM"
   ]
  },
  {
   "cell_type": "code",
   "execution_count": null,
   "id": "1e51bd46",
   "metadata": {},
   "outputs": [],
   "source": []
  },
  {
   "cell_type": "code",
   "execution_count": 81,
   "id": "2ad762fa",
   "metadata": {},
   "outputs": [],
   "source": [
    "# BRUTEFORCE APPROACH"
   ]
  },
  {
   "cell_type": "code",
   "execution_count": 82,
   "id": "e1675130",
   "metadata": {},
   "outputs": [
    {
     "data": {
      "text/plain": [
       "[7, 11]"
      ]
     },
     "execution_count": 82,
     "metadata": {},
     "output_type": "execute_result"
    }
   ],
   "source": [
    "def pair_sum(arr,target):\n",
    "    n=len(arr)\n",
    "    for  i in range(n):\n",
    "        for j in range(i+1,n):\n",
    "            if arr[i]+arr[j]==target:\n",
    "                return [arr[i],arr[j]]\n",
    "            \n",
    "    return \"not found\"\n",
    "pair_sum([2,7,11,15],18)"
   ]
  },
  {
   "cell_type": "code",
   "execution_count": 83,
   "id": "65c7c538",
   "metadata": {},
   "outputs": [
    {
     "name": "stdout",
     "output_type": "stream",
     "text": [
      "[[11, 15], [1, 25]]\n"
     ]
    }
   ],
   "source": [
    "def pair_sum(arr, target):\n",
    "    n = len(arr)\n",
    "    result = []\n",
    "    for i in range(n):\n",
    "        for j in range(i + 1, n):  \n",
    "            if arr[i] + arr[j] == target:\n",
    "                result.append([arr[i], arr[j]])\n",
    "    if result:\n",
    "        return result\n",
    "    else:\n",
    "        return \"not found\"\n",
    "\n",
    "print(pair_sum([2, 7, 11, 15, 1, 25], 26))\n"
   ]
  },
  {
   "cell_type": "code",
   "execution_count": 84,
   "id": "643377ea",
   "metadata": {},
   "outputs": [
    {
     "data": {
      "text/plain": [
       "[1, 25]"
      ]
     },
     "execution_count": 84,
     "metadata": {},
     "output_type": "execute_result"
    }
   ],
   "source": [
    "def pair_sum(arr,target):\n",
    "    left=0\n",
    "    right=len(arr)-1\n",
    "    \n",
    "    while left<right:\n",
    "        curr_sum=arr[left]+arr[right]\n",
    "\n",
    "        if curr_sum==target:\n",
    "            return [arr[left],arr[right]]\n",
    "        \n",
    "        elif curr_sum<target:\n",
    "            left+=1\n",
    "\n",
    "        else:\n",
    "            right-=1\n",
    "\n",
    "    return curr_sum\n",
    "\n",
    "pair_sum([1,2,7,11,15,25],26)"
   ]
  },
  {
   "cell_type": "code",
   "execution_count": 85,
   "id": "abbba72e",
   "metadata": {},
   "outputs": [
    {
     "data": {
      "text/plain": [
       "[[1, 25], [11, 15]]"
      ]
     },
     "execution_count": 85,
     "metadata": {},
     "output_type": "execute_result"
    }
   ],
   "source": [
    "def pair_sum(arr,target):\n",
    "    left=0\n",
    "    right=len(arr)-1\n",
    "    result=[]\n",
    "    while left<right:\n",
    "        curr_sum=arr[left]+arr[right]\n",
    "\n",
    "        if curr_sum==target:\n",
    "            result.append( [arr[left],arr[right]])\n",
    "            left+=1\n",
    "            right-=1\n",
    "        \n",
    "        elif curr_sum<target:\n",
    "            left+=1\n",
    "\n",
    "        else:\n",
    "            right-=1\n",
    "\n",
    "    if result:\n",
    "        return result\n",
    "    else:\n",
    "        return \"not found\"\n",
    "\n",
    "pair_sum([1,2,7,11,15,25],26)"
   ]
  },
  {
   "cell_type": "code",
   "execution_count": 86,
   "id": "26bd9b93",
   "metadata": {},
   "outputs": [
    {
     "name": "stdout",
     "output_type": "stream",
     "text": [
      "None\n",
      "1\n"
     ]
    }
   ],
   "source": [
    "def majority_element(nums):\n",
    "    freq = {}\n",
    "    n = len(nums)\n",
    "\n",
    "    for num in nums:\n",
    "        if num in freq:\n",
    "            freq[num] += 1\n",
    "        else:\n",
    "            freq[num] = 1\n",
    "\n",
    "        if freq[num] > n // 2:\n",
    "            return num  # Early return if majority found\n",
    "\n",
    "    return None  # No majority element\n",
    "print(majority_element([3, 2]))      # Output: 3\n",
    "print(majority_element([2, 2, 1, 1, 1]))  "
   ]
  },
  {
   "cell_type": "code",
   "execution_count": 1,
   "id": "89a80b37",
   "metadata": {},
   "outputs": [
    {
     "data": {
      "text/plain": [
       "[2, 3]"
      ]
     },
     "execution_count": 1,
     "metadata": {},
     "output_type": "execute_result"
    }
   ],
   "source": [
    "def majority_element(nums):\n",
    "    freq = {}\n",
    "    n = len(nums)\n",
    "    result=[]\n",
    "\n",
    "    for num in nums:\n",
    "        if num in freq:\n",
    "            freq[num] += 1\n",
    "        else:\n",
    "            freq[num] = 1\n",
    "\n",
    "        if freq[num] > n // 3:\n",
    "            if num not in  result:\n",
    "                \n",
    "                result.append(num)\n",
    "    return result\n",
    "    \n",
    "    \n",
    "\n",
    "majority_element([2,2,3,3,1])"
   ]
  },
  {
   "cell_type": "markdown",
   "id": "22e38d48",
   "metadata": {},
   "source": [
    "# missing and repeated value"
   ]
  },
  {
   "cell_type": "code",
   "execution_count": 88,
   "id": "cef50ec9",
   "metadata": {},
   "outputs": [],
   "source": [
    "def findMissingAndRepeatedValues(grid):\n",
    "    grid=[[1,3],[2,2]]\n",
    "    freq={}\n",
    "    for i in range(len(grid)):\n",
    "        for j in grid[i]:\n",
    "            if j in freq:\n",
    "                freq[j]+=1\n",
    "            else:\n",
    "                freq[j]=1\n",
    "            \n",
    "            if freq[j]>1:\n",
    "                return j\n",
    "    "
   ]
  },
  {
   "cell_type": "code",
   "execution_count": 89,
   "id": "cbfbfe62",
   "metadata": {},
   "outputs": [
    {
     "name": "stdout",
     "output_type": "stream",
     "text": [
      "7\n"
     ]
    }
   ],
   "source": [
    "grid=[[1,3],[2,2]]\n",
    "\n",
    "total_sum=0\n",
    "count=0\n",
    "for row in grid:\n",
    "    for no in row:\n",
    "        total_sum+=no\n",
    "        count+=1\n",
    "n=count+1\n",
    "actual_sum=n*(n+1)//2\n",
    "\n",
    "missingno=actual_sum-total_sum\n",
    "\n",
    "print(missingno)"
   ]
  },
  {
   "cell_type": "code",
   "execution_count": 90,
   "id": "4bd09091",
   "metadata": {},
   "outputs": [
    {
     "name": "stdout",
     "output_type": "stream",
     "text": [
      "Repeated number: 2\n",
      "Missing number: 4\n"
     ]
    }
   ],
   "source": [
    "grid = [[1, 3], [2, 2]]  # Should contain numbers from 1 to 4\n",
    "\n",
    "# Flatten the grid\n",
    "nums = [num for row in grid for num in row]\n",
    "n = len(nums)\n",
    "\n",
    "sum_actual = sum(nums)\n",
    "sq_sum_actual = sum(x * x for x in nums)\n",
    "\n",
    "# Expected sums\n",
    "sum_expected = n * (n + 1) // 2\n",
    "sq_sum_expected = n * (n + 1) * (2 * n + 1) // 6\n",
    "\n",
    "# Equations:\n",
    "diff = sum_actual - sum_expected              # x - y\n",
    "sq_diff = sq_sum_actual - sq_sum_expected     # x^2 - y^2 = (x - y)(x + y)\n",
    "\n",
    "sum_xy = sq_diff // diff                      # x + y\n",
    "\n",
    "# Solve:\n",
    "x = (diff + sum_xy) // 2   # repeated\n",
    "y = x - diff               # missing\n",
    "\n",
    "print(\"Repeated number:\", x)\n",
    "print(\"Missing number:\", y)\n"
   ]
  },
  {
   "cell_type": "code",
   "execution_count": 91,
   "id": "74d4fd5d",
   "metadata": {},
   "outputs": [
    {
     "name": "stdout",
     "output_type": "stream",
     "text": [
      "[1, 3, 2, 2]\n"
     ]
    }
   ],
   "source": [
    "grid = [[1, 3], [2, 2]]  # Should contain numbers from 1 to 4\n",
    "\n",
    "# Flatten the grid\n",
    "nums = [num for row in grid for num in row]\n",
    "print(nums)\n",
    "n = len(nums) "
   ]
  },
  {
   "cell_type": "code",
   "execution_count": 92,
   "id": "fc260270",
   "metadata": {},
   "outputs": [
    {
     "name": "stdout",
     "output_type": "stream",
     "text": [
      "[1, 3, 2, 2]\n"
     ]
    }
   ],
   "source": [
    "grid = [[1, 3], [2, 2]]\n",
    "result=[]\n",
    "for row in grid:\n",
    "    for num in row:\n",
    "        result.append(num)\n",
    "print(result)"
   ]
  },
  {
   "cell_type": "code",
   "execution_count": 93,
   "id": "2e839a1f",
   "metadata": {},
   "outputs": [
    {
     "name": "stdout",
     "output_type": "stream",
     "text": [
      "[2, 4]\n"
     ]
    }
   ],
   "source": [
    "class Solution(object):\n",
    "    def findMissingAndRepeatedValues(self, grid):\n",
    "        \"\"\"\n",
    "        :type grid: List[List[int]]\n",
    "        :rtype: List[int]\n",
    "        \"\"\"\n",
    "        # Flatten the 2D grid into a 1D list\n",
    "        nums = [num for row in grid for num in row]\n",
    "        n = len(nums)  # total count of elements (should be n = m * m - 1, with one missing)\n",
    "\n",
    "        sum_actual = sum(nums)\n",
    "        sq_sum_actual = sum(x * x for x in nums)\n",
    "\n",
    "        # The grid should have numbers from 1 to n\n",
    "        sum_expected = n * (n + 1) // 2\n",
    "        sq_sum_expected = n * (n + 1) * (2 * n + 1) // 6\n",
    "\n",
    "        # Let x = repeated, y = missing\n",
    "        diff = sum_actual - sum_expected         # x - y\n",
    "        sq_diff = sq_sum_actual - sq_sum_expected  # x^2 - y^2 = (x - y)(x + y)\n",
    "\n",
    "        sum_xy = sq_diff // diff                 # x + y\n",
    "\n",
    "        repeated = (diff + sum_xy) // 2\n",
    "        missing = repeated - diff\n",
    "\n",
    "        return [repeated, missing]\n",
    "s = Solution()\n",
    "print(s.findMissingAndRepeatedValues([[1, 3], [2, 2]]))  # Output: [2, 4]\n",
    "\n"
   ]
  },
  {
   "cell_type": "markdown",
   "id": "0414e4b4",
   "metadata": {},
   "source": [
    "# Merge Sorted Array"
   ]
  },
  {
   "cell_type": "code",
   "execution_count": 94,
   "id": "599053c9",
   "metadata": {},
   "outputs": [
    {
     "name": "stdout",
     "output_type": "stream",
     "text": [
      "[1, 2, 3, 0, 0, 0, 2, 5, 6]\n"
     ]
    }
   ],
   "source": [
    "nums1=[1,2,3,0,0,0]\n",
    "nums2=[2,5,6]\n",
    "m=3\n",
    "n=3\n",
    "\n",
    "a=nums1+nums2\n",
    "print(a)"
   ]
  },
  {
   "cell_type": "code",
   "execution_count": 95,
   "id": "3492252d",
   "metadata": {},
   "outputs": [
    {
     "name": "stdout",
     "output_type": "stream",
     "text": [
      "[1, 2, 2, 3, 5, 6]\n"
     ]
    }
   ],
   "source": [
    "nums1=[1,2,3,0,0,0]\n",
    "nums2=[2,5,6]\n",
    "result=[]\n",
    "m=3\n",
    "n=3\n",
    "for i in nums1[:m]:\n",
    "        result.append(i)\n",
    "for j in nums2[:n]:\n",
    "        result.append(j)\n",
    "result.sort()\n",
    "print(result)"
   ]
  },
  {
   "cell_type": "code",
   "execution_count": 96,
   "id": "95f0a83a",
   "metadata": {},
   "outputs": [
    {
     "name": "stdout",
     "output_type": "stream",
     "text": [
      "[1, 2, 2, 3, 5, 6]\n"
     ]
    }
   ],
   "source": [
    "nums1=[1,2,3,0,0,0]\n",
    "nums2=[2,5,6]\n",
    "m=3\n",
    "n=3\n",
    "\n",
    "nums1=nums1[:m]+nums2[:n]\n",
    "nums1.sort()\n",
    "print(nums1)"
   ]
  },
  {
   "cell_type": "code",
   "execution_count": 97,
   "id": "b00ddd4f",
   "metadata": {},
   "outputs": [],
   "source": [
    "class Solution(object):\n",
    "    def merge(self, nums1, m, nums2, n):\n",
    "        \"\"\"\n",
    "        :type nums1: List[int]\n",
    "        :type m: int\n",
    "        :type nums2: List[int]\n",
    "        :type n: int\n",
    "        :rtype: None Do not return anything, modify nums1 in-place instead.\n",
    "        \"\"\"\n",
    "        nums1[:m+n] = sorted(nums1[:m] + nums2)\n",
    "        return nums1"
   ]
  },
  {
   "cell_type": "markdown",
   "id": "cb7f9491",
   "metadata": {},
   "source": []
  },
  {
   "cell_type": "code",
   "execution_count": 98,
   "id": "f52e7a11",
   "metadata": {},
   "outputs": [
    {
     "ename": "TypeError",
     "evalue": "'int' object is not iterable",
     "output_type": "error",
     "traceback": [
      "\u001b[31m---------------------------------------------------------------------------\u001b[39m",
      "\u001b[31mTypeError\u001b[39m                                 Traceback (most recent call last)",
      "\u001b[36mCell\u001b[39m\u001b[36m \u001b[39m\u001b[32mIn[98]\u001b[39m\u001b[32m, line 7\u001b[39m\n\u001b[32m      5\u001b[39m     arr=prices[start:end+\u001b[32m1\u001b[39m]\n\u001b[32m      6\u001b[39m     diff=prices[end]-prices[start]\n\u001b[32m----> \u001b[39m\u001b[32m7\u001b[39m \u001b[38;5;28mprint\u001b[39m(\u001b[38;5;28;43mmax\u001b[39;49m\u001b[43m(\u001b[49m\u001b[43mdiff\u001b[49m\u001b[43m)\u001b[49m)\n",
      "\u001b[31mTypeError\u001b[39m: 'int' object is not iterable"
     ]
    }
   ],
   "source": [
    "prices = [7,1,5,3,6,4]\n",
    "n=len(prices)\n",
    "for start in range(n):\n",
    "    for end in range(start,n):\n",
    "        arr=prices[start:end+1]\n",
    "        diff=prices[end]-prices[start]\n",
    "    print(max(diff))"
   ]
  },
  {
   "cell_type": "code",
   "execution_count": 99,
   "id": "fafb77c5",
   "metadata": {},
   "outputs": [
    {
     "name": "stdout",
     "output_type": "stream",
     "text": [
      "5\n"
     ]
    }
   ],
   "source": [
    "prices = [7,1,5,3,6,4]\n",
    "max_profit=0\n",
    "best_buy=prices[0]\n",
    "\n",
    "for price in prices:\n",
    "    if price<best_buy:\n",
    "        best_buy=price\n",
    "\n",
    "for price in prices[1:]:\n",
    "    if price>best_buy:\n",
    "        max_profit=max(max_profit,price-best_buy)\n",
    "print(max_profit)\n"
   ]
  },
  {
   "cell_type": "code",
   "execution_count": 100,
   "id": "ab3dc2d3",
   "metadata": {},
   "outputs": [
    {
     "name": "stdout",
     "output_type": "stream",
     "text": [
      "5\n"
     ]
    }
   ],
   "source": [
    "max_profit = 0\n",
    "best_buy = float('inf')\n",
    "\n",
    "for price in prices:\n",
    "    if price < best_buy:\n",
    "        best_buy = price\n",
    "    else:\n",
    "        max_profit = max(max_profit, price - best_buy)\n",
    "print(max_profit)"
   ]
  },
  {
   "cell_type": "markdown",
   "id": "8cfd55b2",
   "metadata": {},
   "source": [
    "x ki power n"
   ]
  },
  {
   "cell_type": "code",
   "execution_count": 101,
   "id": "47d6b3ae",
   "metadata": {},
   "outputs": [
    {
     "name": "stdout",
     "output_type": "stream",
     "text": [
      "0b1010\n"
     ]
    }
   ],
   "source": [
    "x=2\n",
    "n=10\n",
    "\n",
    "binary=bin(n)\n",
    "print(binary)\n"
   ]
  },
  {
   "cell_type": "code",
   "execution_count": 1,
   "id": "a2995a8d",
   "metadata": {},
   "outputs": [
    {
     "name": "stdout",
     "output_type": "stream",
     "text": [
      "1024.0\n",
      "0.125\n",
      "15.625\n",
      "1.0\n"
     ]
    }
   ],
   "source": [
    "class Solution:\n",
    "    def myPow(self, x: float, n: int) -> float:\n",
    "        if n == 0:\n",
    "            return 1.0\n",
    "\n",
    "        negative = n < 0\n",
    "        n = abs(n)\n",
    "\n",
    "        result = 1.0\n",
    "        current_product = x\n",
    "\n",
    "        while n > 0:\n",
    "            if n % 2 == 1:\n",
    "                result *= current_product\n",
    "            current_product *= current_product\n",
    "            n //= 2\n",
    "\n",
    "        return 1 / result if negative else result\n",
    "sol = Solution()\n",
    "print(sol.myPow(2.0, 10))   # Output: 1024.0\n",
    "print(sol.myPow(2.0, -3))   # Output: 0.125\n",
    "print(sol.myPow(2.5, 3))    # Output: 15.625\n",
    "print(sol.myPow(1.0, 10000))# Output: 1.0\n"
   ]
  },
  {
   "cell_type": "code",
   "execution_count": 3,
   "id": "bb6e7181",
   "metadata": {},
   "outputs": [
    {
     "name": "stdout",
     "output_type": "stream",
     "text": [
      "1024.0\n",
      "0.125\n",
      "15.625\n",
      "1.0\n"
     ]
    }
   ],
   "source": [
    "class Solution:\n",
    "    def myPow(self, x: float, n: int) -> float:\n",
    "        if n == 0:\n",
    "            return 1.0\n",
    "        if n < 0:\n",
    "            x = 1 / x\n",
    "            n = -n\n",
    "\n",
    "        result = 1.0\n",
    "        while n > 0:\n",
    "            if n % 2 == 1:\n",
    "                result *= x\n",
    "            x *= x\n",
    "            n //= 2\n",
    "\n",
    "        return result\n",
    "    sol = Solution()\n",
    "print(sol.myPow(2.0, 10))   # Output: 1024.0\n",
    "print(sol.myPow(2.0, -3))   # Output: 0.125\n",
    "print(sol.myPow(2.5, 3))    # Output: 15.625\n",
    "print(sol.myPow(1.0, 10000))# Output: 1.0\n"
   ]
  },
  {
   "cell_type": "markdown",
   "id": "5f2939b5",
   "metadata": {},
   "source": [
    "# 11. Container With Most Water"
   ]
  },
  {
   "cell_type": "code",
   "execution_count": null,
   "id": "3e38c4e2",
   "metadata": {},
   "outputs": [],
   "source": [
    "height=[1,8,6,2,5,4,8,3,7]\n",
    "count=0\n",
    "pointer1=height[0]\n",
    "for num in height:\n",
    "    count+=1\n",
    "    if nums>pointer1:\n",
    "        pointer1=num\n",
    "       "
   ]
  },
  {
   "cell_type": "code",
   "execution_count": null,
   "id": "36f4220a",
   "metadata": {},
   "outputs": [],
   "source": [
    "height=[1,8,6,2,5,4,8,3,7]\n",
    "count=0\n",
    "pointer1=height[0]\n",
    "for num in range(len(height)):\n",
    "        count+=1\n",
    "        if height[num]>pointer1:\n",
    "            pointer1=height[num]\n",
    "for j in range(num+1,len(height)):\n",
    "      value=min(pointer1,pointer2)\n",
    "      max_val=val*count\n",
    "        \n",
    "       "
   ]
  },
  {
   "cell_type": "markdown",
   "id": "403a1313",
   "metadata": {},
   "source": [
    "BRUTEFORCE"
   ]
  },
  {
   "cell_type": "code",
   "execution_count": 102,
   "id": "efb1b46e",
   "metadata": {},
   "outputs": [
    {
     "name": "stdout",
     "output_type": "stream",
     "text": [
      "49\n"
     ]
    }
   ],
   "source": [
    "height=[1,8,6,2,5,4,8,3,7]\n",
    "max_area=0\n",
    "n=len(height)\n",
    "\n",
    "for i in range(n):\n",
    "    for j in range(i+1,n):\n",
    "        width=j-i\n",
    "        area=min(height[i],height[j])*width\n",
    "        max_area=max(max_area,area)\n",
    "print(max_area)"
   ]
  },
  {
   "cell_type": "markdown",
   "id": "b8e43024",
   "metadata": {},
   "source": [
    "TWO POINTER"
   ]
  },
  {
   "cell_type": "code",
   "execution_count": 106,
   "id": "6ed05ce1",
   "metadata": {},
   "outputs": [
    {
     "name": "stdout",
     "output_type": "stream",
     "text": [
      "49\n"
     ]
    }
   ],
   "source": [
    "height=[1,8,6,2,5,4,8,3,7]\n",
    "max_water=0\n",
    "left=0\n",
    "right=len(height)-1\n",
    "\n",
    "while left<right:\n",
    "    width=right-left\n",
    "    area=min(height[left],height[right])*width\n",
    "    max_water=max(max_water,area)\n",
    "\n",
    "    if height[left]<height[right]:\n",
    "        left+=1\n",
    "    else:\n",
    "        right-=1\n",
    "\n",
    "print(max_water)\n",
    "\n"
   ]
  },
  {
   "cell_type": "code",
   "execution_count": null,
   "id": "55c05d12",
   "metadata": {},
   "outputs": [
    {
     "ename": "IndexError",
     "evalue": "list index out of range",
     "output_type": "error",
     "traceback": [
      "\u001b[31m---------------------------------------------------------------------------\u001b[39m",
      "\u001b[31mIndexError\u001b[39m                                Traceback (most recent call last)",
      "\u001b[36mCell\u001b[39m\u001b[36m \u001b[39m\u001b[32mIn[108]\u001b[39m\u001b[32m, line 3\u001b[39m\n\u001b[32m      1\u001b[39m nums=[\u001b[32m2\u001b[39m,\u001b[32m0\u001b[39m,\u001b[32m2\u001b[39m,\u001b[32m1\u001b[39m,\u001b[32m1\u001b[39m,\u001b[32m0\u001b[39m]\n\u001b[32m      2\u001b[39m \u001b[38;5;28;01mfor\u001b[39;00m i \u001b[38;5;129;01min\u001b[39;00m  \u001b[38;5;28mrange\u001b[39m(\u001b[38;5;28mlen\u001b[39m(nums)):\n\u001b[32m----> \u001b[39m\u001b[32m3\u001b[39m     \u001b[38;5;28;01mif\u001b[39;00m nums[i]<\u001b[43mnums\u001b[49m\u001b[43m[\u001b[49m\u001b[43mi\u001b[49m\u001b[43m+\u001b[49m\u001b[32;43m1\u001b[39;49m\u001b[43m]\u001b[49m:\n\u001b[32m      4\u001b[39m         nums[i],nums[i+\u001b[32m1\u001b[39m]=nums[i+\u001b[32m1\u001b[39m],nums[i]\n\u001b[32m      5\u001b[39m \u001b[38;5;28mprint\u001b[39m(nums)\n",
      "\u001b[31mIndexError\u001b[39m: list index out of range"
     ]
    }
   ],
   "source": [
    "nums=[2,0,2,1,1,0]\n",
    "for i in  range(len(nums)):\n",
    "    if nums[i]>nums[i+1]:\n",
    "        nums[i],nums[i+1]=nums[i+1],nums[i]\n",
    "print(nums)"
   ]
  },
  {
   "cell_type": "code",
   "execution_count": 111,
   "id": "db5efb3b",
   "metadata": {},
   "outputs": [
    {
     "name": "stdout",
     "output_type": "stream",
     "text": [
      "[2, 0, 2, 1, 1, 0]\n"
     ]
    }
   ],
   "source": [
    "nums=[2,0,2,1,1,0]\n",
    "min=nums[0]\n",
    "for i in nums:\n",
    "    if i<min:\n",
    "        min=i\n",
    "nums[i],nums[min]=nums[min],nums[i]\n",
    "print(nums)"
   ]
  },
  {
   "cell_type": "code",
   "execution_count": null,
   "id": "6c1bcda0",
   "metadata": {},
   "outputs": [],
   "source": [
    "nums=[2,0,2,1,1,0]"
   ]
  },
  {
   "cell_type": "code",
   "execution_count": 115,
   "id": "aeff0be1",
   "metadata": {},
   "outputs": [
    {
     "name": "stdout",
     "output_type": "stream",
     "text": [
      "[1, 1, 2, 6]\n"
     ]
    }
   ],
   "source": [
    "nums = [1,2,3,4]\n",
    "prod=1\n",
    "result=[]\n",
    "for num in nums:\n",
    "    prod*=num\n",
    "    a=prod//num\n",
    "    result.append(a)\n",
    "print(result)"
   ]
  },
  {
   "cell_type": "code",
   "execution_count": 118,
   "id": "79521423",
   "metadata": {},
   "outputs": [
    {
     "name": "stdout",
     "output_type": "stream",
     "text": [
      "[24, 12, 8, 6]\n"
     ]
    }
   ],
   "source": [
    "def product_except_self(nums):\n",
    "    total = 1\n",
    "    for num in nums:\n",
    "        total *= num\n",
    "    return [total // num for num in nums]\n",
    "nums = [1, 2, 3, 4]\n",
    "print(product_except_self(nums))  # Output: [24, 12, 8, 6]\n"
   ]
  },
  {
   "cell_type": "code",
   "execution_count": 127,
   "id": "aa6c2270",
   "metadata": {},
   "outputs": [
    {
     "name": "stdout",
     "output_type": "stream",
     "text": [
      "[0, 0, 8, 0]\n"
     ]
    }
   ],
   "source": [
    "nums = [1, 2, 0, 4]\n",
    "\n",
    "ans=[]\n",
    "for i in range(len(nums)):\n",
    "    prod=1\n",
    "    for j in range(len(nums)):\n",
    "        if i!=j:\n",
    "            prod*=nums[j]\n",
    "    ans.append(prod)\n",
    "print(ans)"
   ]
  },
  {
   "cell_type": "code",
   "execution_count": 133,
   "id": "f4c0643c",
   "metadata": {},
   "outputs": [
    {
     "name": "stdout",
     "output_type": "stream",
     "text": [
      "[24, 12, 8, 6]\n"
     ]
    }
   ],
   "source": [
    "nums = [1, 2, 3, 4]\n",
    "\n",
    "n=len(nums)\n",
    "result=[1]*n\n",
    "\n",
    "prefix=1\n",
    "\n",
    "for i in range(len(nums)):\n",
    "    result[i]*=prefix\n",
    "    prefix*=nums[i]\n",
    "\n",
    "suffix=1\n",
    "\n",
    "for i in range(n-1,-1,-1):\n",
    "    result[i]*=suffix\n",
    "    suffix*=nums[i]\n",
    "\n",
    "print(result)"
   ]
  },
  {
   "cell_type": "markdown",
   "id": "3fd0cce5",
   "metadata": {},
   "source": [
    "# 75. Sort Colors"
   ]
  },
  {
   "cell_type": "code",
   "execution_count": 4,
   "id": "b5ca9666",
   "metadata": {},
   "outputs": [
    {
     "name": "stdout",
     "output_type": "stream",
     "text": [
      "[0, 0, 1, 1, 2, 2]\n"
     ]
    }
   ],
   "source": [
    "nums = [2,0,2,1,1,0]\n",
    "nums.sort()\n",
    "print(nums)"
   ]
  },
  {
   "cell_type": "code",
   "execution_count": 6,
   "id": "94bcea65",
   "metadata": {},
   "outputs": [
    {
     "name": "stdout",
     "output_type": "stream",
     "text": [
      "[0, 0, 0, 1, 1, 2, 2, 2]\n"
     ]
    }
   ],
   "source": [
    "\n",
    "nums=[2,0,2,1,0,1,0,2]\n",
    "low, mid, high = 0, 0, len(nums) - 1\n",
    "\n",
    "while mid <= high:\n",
    "    if nums[mid] == 0:\n",
    "        nums[low], nums[mid] = nums[mid], nums[low]\n",
    "        low += 1\n",
    "        mid += 1\n",
    "    elif nums[mid] == 1:\n",
    "        mid += 1\n",
    "    else:  # nums[mid] == 2\n",
    "        nums[mid], nums[high] = nums[high], nums[mid]\n",
    "        high -= 1\n",
    "print(nums)"
   ]
  },
  {
   "cell_type": "markdown",
   "id": "8205ab7b",
   "metadata": {},
   "source": [
    "# next permutation\n"
   ]
  },
  {
   "cell_type": "code",
   "execution_count": 1,
   "id": "e472347a",
   "metadata": {},
   "outputs": [
    {
     "name": "stdout",
     "output_type": "stream",
     "text": [
      "[2, 1, 3]\n"
     ]
    }
   ],
   "source": [
    "class Solution:\n",
    "    def nextPermutation(self, nums):\n",
    "        i = len(nums) - 2\n",
    "        while i >= 0 and nums[i] >= nums[i + 1]:\n",
    "            i -= 1\n",
    "\n",
    "        if i >= 0:\n",
    "            j = len(nums) - 1\n",
    "            while nums[j] <= nums[i]:\n",
    "                j -= 1\n",
    "            nums[i], nums[j] = nums[j], nums[i]\n",
    "\n",
    "        # Use reversed() and assign back in-place\n",
    "        nums[i + 1:] = reversed(nums[i + 1:])\n",
    "\n",
    "nums = [1, 3, 2]\n",
    "Solution().nextPermutation(nums)\n",
    "print(nums)  # Output: [2, 1, 3]\n"
   ]
  },
  {
   "cell_type": "code",
   "execution_count": 2,
   "id": "07377aa5",
   "metadata": {},
   "outputs": [
    {
     "name": "stdout",
     "output_type": "stream",
     "text": [
      "[2, 1, 3]\n"
     ]
    }
   ],
   "source": [
    "class Solution(object):\n",
    "    def nextPermutation(self, nums):\n",
    "        \"\"\"\n",
    "        :type nums: List[int]\n",
    "        :rtype: None Do not return anything, modify nums in-place instead.\n",
    "        \"\"\"\n",
    "        n=len(nums)\n",
    "\n",
    "        index=-1\n",
    "\n",
    "        for i in range(n-2,-1,-1):\n",
    "            if nums[i]<nums[i+1]:\n",
    "                index=i\n",
    "                break\n",
    "        \n",
    "        if index==-1:\n",
    "            nums.reverse()\n",
    "\n",
    "        else:\n",
    "            for i in range(n-1,index,-1):\n",
    "                if nums[i]>nums[index]:\n",
    "                    nums[i],nums[index]=nums[index],nums[i]\n",
    "                    nums[index+1:]=reversed(nums[index+1:])\n",
    "                    break\n",
    "nums = [1, 3, 2]\n",
    "Solution().nextPermutation(nums)\n",
    "print(nums)  # Output: [2, 1, 3]\n",
    "      "
   ]
  },
  {
   "cell_type": "markdown",
   "id": "a6f26f60",
   "metadata": {},
   "source": [
    "# BINARY SEARCH"
   ]
  },
  {
   "cell_type": "code",
   "execution_count": 5,
   "id": "88d01525",
   "metadata": {},
   "outputs": [
    {
     "data": {
      "text/plain": [
       "2"
      ]
     },
     "execution_count": 5,
     "metadata": {},
     "output_type": "execute_result"
    }
   ],
   "source": [
    "def binary_search(arr,target):\n",
    "    low=0\n",
    "    high=len(arr)-1\n",
    "    while high>=low:\n",
    "        mid=(low+high)//2\n",
    "\n",
    "        if arr[mid]==target:\n",
    "            return mid\n",
    "        \n",
    "        elif arr[mid]<target:\n",
    "            low=mid+1\n",
    "\n",
    "        else:\n",
    "            high=mid-1\n",
    "    return -1\n",
    "\n",
    "binary_search([1,2,3,4,5],3)\n"
   ]
  },
  {
   "cell_type": "code",
   "execution_count": 7,
   "id": "162ac435",
   "metadata": {},
   "outputs": [
    {
     "data": {
      "text/plain": [
       "2"
      ]
     },
     "execution_count": 7,
     "metadata": {},
     "output_type": "execute_result"
    }
   ],
   "source": [
    "def binary_search_recursive(arr,low,high,target):\n",
    "    if low>high:\n",
    "        return -1\n",
    "    \n",
    "    mid=(low+high)//2\n",
    "\n",
    "    if arr[mid]==target:\n",
    "        return mid\n",
    "    elif arr[mid]<target:\n",
    "        return binary_search_recursive(arr,mid+1,high,target)\n",
    "    else:\n",
    "        return binary_search_recursive(arr,low,mid-1,target)\n",
    "arr=[1,2,3,4,5]   \n",
    "binary_search_recursive(arr,0,len(arr)-1,3)"
   ]
  },
  {
   "cell_type": "markdown",
   "id": "f3ed516a",
   "metadata": {},
   "source": [
    "33. Search in Rotated Sorted Array"
   ]
  },
  {
   "cell_type": "code",
   "execution_count": 20,
   "id": "f45a867f",
   "metadata": {},
   "outputs": [
    {
     "data": {
      "text/plain": [
       "1"
      ]
     },
     "execution_count": 20,
     "metadata": {},
     "output_type": "execute_result"
    }
   ],
   "source": [
    "def search_rotated_array(nums,target):\n",
    "    low=0\n",
    "    high=len(nums)-1\n",
    "    while high>=low:\n",
    "        mid=(low+high)//2\n",
    "\n",
    "        if nums[mid]==target:\n",
    "            return mid\n",
    "        \n",
    "        if nums[low]<=nums[mid]:\n",
    "            if nums[low]<=target<nums[mid]:\n",
    "                high=mid-1\n",
    "            else:\n",
    "                low=mid+1\n",
    "        \n",
    "        if nums[mid]<=nums[high]:\n",
    "            if nums[mid]<target<=nums[high]:\n",
    "                low=mid+1\n",
    "            else:\n",
    "                high=mid-1\n",
    "\n",
    "    return -1\n",
    "\n",
    "search_rotated_array([1,2,3,4,5],2)"
   ]
  },
  {
   "cell_type": "code",
   "execution_count": 24,
   "id": "48878ebc",
   "metadata": {},
   "outputs": [
    {
     "data": {
      "text/plain": [
       "4"
      ]
     },
     "execution_count": 24,
     "metadata": {},
     "output_type": "execute_result"
    }
   ],
   "source": [
    "def search_rotated_array(nums, target):\n",
    "    low = 0\n",
    "    high = len(nums) - 1\n",
    "\n",
    "    while low <= high:\n",
    "        mid = (low + high) // 2\n",
    "\n",
    "        if nums[mid] == target:\n",
    "            return mid\n",
    "\n",
    "        if nums[low] <= nums[mid]:\n",
    "            if nums[low] <= target < nums[mid]:\n",
    "                high = mid - 1\n",
    "            else:\n",
    "                low = mid + 1\n",
    "      \n",
    "        else:\n",
    "            if nums[mid] < target <= nums[high]:\n",
    "                low = mid + 1\n",
    "            else:\n",
    "                high = mid - 1\n",
    "\n",
    "    return -1\n",
    "search_rotated_array([3,4,5,1,2],2)"
   ]
  },
  {
   "cell_type": "code",
   "execution_count": 25,
   "id": "7c67527a",
   "metadata": {},
   "outputs": [],
   "source": [
    "class Solution(object):\n",
    "    def search(self, nums, target):\n",
    "        \"\"\"\n",
    "        :type nums: List[int]\n",
    "        :type target: int\n",
    "        :rtype: int\n",
    "        \"\"\"\n",
    "        x = 0\n",
    "        y = len(nums) - 1\n",
    "        \n",
    "        while x <= y:\n",
    "            i = (x + y) // 2\n",
    "            if nums[i] == target:\n",
    "                return i\n",
    "            if nums[x] <= nums[i]:\n",
    "                if nums[x] <= target < nums[i]:\n",
    "                    y = i - 1\n",
    "                else:\n",
    "                    x = i + 1\n",
    "            else:\n",
    "                if nums[i] < target <= nums[y]:\n",
    "                    x = i + 1\n",
    "                else:\n",
    "                    y = i - 1\n",
    "            \n",
    "        return -1"
   ]
  },
  {
   "cell_type": "markdown",
   "id": "749a54c2",
   "metadata": {},
   "source": [
    "\n",
    "540. Single Element in a Sorted Array"
   ]
  },
  {
   "cell_type": "code",
   "execution_count": null,
   "id": "7214a730",
   "metadata": {},
   "outputs": [
    {
     "name": "stdout",
     "output_type": "stream",
     "text": [
      "2\n"
     ]
    }
   ],
   "source": [
    "nums = [1,1,2,3,3,4,4,8,8]\n",
    "\n",
    "freq={}\n",
    "for i in nums:\n",
    "    if i in freq:\n",
    "        freq[i]+=1\n",
    "    else:\n",
    "        freq[i]=1\n",
    "for i in freq:\n",
    "    if freq[i]==1:\n",
    "        print(i)"
   ]
  },
  {
   "cell_type": "code",
   "execution_count": null,
   "id": "2b20a91b",
   "metadata": {},
   "outputs": [],
   "source": []
  }
 ],
 "metadata": {
  "kernelspec": {
   "display_name": "Python 3",
   "language": "python",
   "name": "python3"
  },
  "language_info": {
   "codemirror_mode": {
    "name": "ipython",
    "version": 3
   },
   "file_extension": ".py",
   "mimetype": "text/x-python",
   "name": "python",
   "nbconvert_exporter": "python",
   "pygments_lexer": "ipython3",
   "version": "3.13.3"
  }
 },
 "nbformat": 4,
 "nbformat_minor": 5
}
